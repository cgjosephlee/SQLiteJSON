{
 "cells": [
  {
   "cell_type": "code",
   "execution_count": 2,
   "metadata": {},
   "outputs": [
    {
     "name": "stdout",
     "output_type": "stream",
     "text": [
      "--2022-12-21 18:42:15--  https://raw.githubusercontent.com/Biuni/PokemonGO-Pokedex/master/pokedex.json\n",
      "正在查找主機 raw.githubusercontent.com (raw.githubusercontent.com)... 185.199.111.133, 185.199.108.133, 185.199.109.133, ...\n",
      "正在連接 raw.githubusercontent.com (raw.githubusercontent.com)|185.199.111.133|:443... 連上了。\n",
      "已送出 HTTP 要求，正在等候回應... 200 OK\n",
      "長度: 81998 (80K) [text/plain]\n",
      "儲存到：「pokedex.json」\n",
      "\n",
      "pokedex.json        100%[===================>]  80.08K  --.-KB/s  於 0.1s       \n",
      "\n",
      "2022-12-21 18:42:16 (814 KB/s) - 已儲存 「pokedex.json」 [81998/81998]\n",
      "\n"
     ]
    }
   ],
   "source": [
    "!wget https://raw.githubusercontent.com/Biuni/PokemonGO-Pokedex/master/pokedex.json"
   ]
  },
  {
   "cell_type": "code",
   "execution_count": 3,
   "metadata": {},
   "outputs": [],
   "source": [
    "import json\n",
    "from SQLiteJSON import SQLiteJSON"
   ]
  },
  {
   "cell_type": "code",
   "execution_count": 4,
   "metadata": {},
   "outputs": [],
   "source": [
    "with open(\"pokedex.json\") as f:\n",
    "    data = json.load(f)"
   ]
  },
  {
   "cell_type": "code",
   "execution_count": 7,
   "metadata": {},
   "outputs": [
    {
     "data": {
      "text/plain": [
       "151"
      ]
     },
     "execution_count": 7,
     "metadata": {},
     "output_type": "execute_result"
    }
   ],
   "source": [
    "len(data[\"pokemon\"])"
   ]
  },
  {
   "cell_type": "code",
   "execution_count": 8,
   "metadata": {},
   "outputs": [],
   "source": [
    "db = SQLiteJSON(\"pokedex.db\")"
   ]
  },
  {
   "cell_type": "code",
   "execution_count": 9,
   "metadata": {},
   "outputs": [
    {
     "data": {
      "application/vnd.jupyter.widget-view+json": {
       "model_id": "0db6ef56234248e4bcf82a5635d8570c",
       "version_major": 2,
       "version_minor": 0
      },
      "text/plain": [
       "  0%|          | 0/151 [00:00<?, ?it/s]"
      ]
     },
     "metadata": {},
     "output_type": "display_data"
    }
   ],
   "source": [
    "db.write_json(data[\"pokemon\"])"
   ]
  },
  {
   "cell_type": "code",
   "execution_count": 11,
   "metadata": {},
   "outputs": [
    {
     "data": {
      "text/plain": [
       "[('body',),\n",
       " ('{\"id\": 1, \"num\": \"001\", \"name\": \"Bulbasaur\", \"img\": \"http://www.serebii.net/pokemongo/pokemon/001.png\", \"type\": [\"Grass\", \"Poison\"], \"height\": \"0.71 m\", \"weight\": \"6.9 kg\", \"candy\": \"Bulbasaur Candy\", \"candy_count\": 25, \"egg\": \"2 km\", \"spawn_chance\": 0.69, \"avg_spawns\": 69, \"spawn_time\": \"20:00\", \"multipliers\": [1.58], \"weaknesses\": [\"Fire\", \"Ice\", \"Flying\", \"Psychic\"], \"next_evolution\": [{\"num\": \"002\", \"name\": \"Ivysaur\"}, {\"num\": \"003\", \"name\": \"Venusaur\"}]}',)]"
      ]
     },
     "execution_count": 11,
     "metadata": {},
     "output_type": "execute_result"
    }
   ],
   "source": [
    "db.query(\"select body from docs limit 1\")"
   ]
  },
  {
   "cell_type": "code",
   "execution_count": 14,
   "metadata": {},
   "outputs": [
    {
     "data": {
      "text/plain": [
       "[(\"body->>'$.name'\",),\n",
       " ('Bulbasaur',),\n",
       " ('Ivysaur',),\n",
       " ('Venusaur',),\n",
       " ('Charmander',),\n",
       " ('Charmeleon',),\n",
       " ('Charizard',),\n",
       " ('Squirtle',),\n",
       " ('Wartortle',),\n",
       " ('Blastoise',),\n",
       " ('Caterpie',)]"
      ]
     },
     "execution_count": 14,
     "metadata": {},
     "output_type": "execute_result"
    }
   ],
   "source": [
    "db.query(\"select body->>'$.name' from docs limit 10\")"
   ]
  },
  {
   "cell_type": "code",
   "execution_count": null,
   "metadata": {},
   "outputs": [
    {
     "data": {
      "text/plain": [
       "[(\"body->>'$.name'\",),\n",
       " ('Bulbasaur',),\n",
       " ('Ivysaur',),\n",
       " ('Venusaur',),\n",
       " ('Charmander',),\n",
       " ('Charmeleon',),\n",
       " ('Charizard',),\n",
       " ('Squirtle',),\n",
       " ('Wartortle',),\n",
       " ('Blastoise',),\n",
       " ('Caterpie',)]"
      ]
     },
     "metadata": {},
     "output_type": "display_data"
    }
   ],
   "source": [
    "db.query(\"select body->>'$.name' from docs limit 10\")"
   ]
  },
  {
   "cell_type": "code",
   "execution_count": 15,
   "metadata": {},
   "outputs": [
    {
     "data": {
      "text/plain": [
       "[(\"body->>'$.type'\",),\n",
       " ('[\"Grass\",\"Poison\"]',),\n",
       " ('[\"Grass\",\"Poison\"]',),\n",
       " ('[\"Grass\",\"Poison\"]',),\n",
       " ('[\"Fire\"]',),\n",
       " ('[\"Fire\"]',),\n",
       " ('[\"Fire\",\"Flying\"]',),\n",
       " ('[\"Water\"]',),\n",
       " ('[\"Water\"]',),\n",
       " ('[\"Water\"]',),\n",
       " ('[\"Bug\"]',)]"
      ]
     },
     "execution_count": 15,
     "metadata": {},
     "output_type": "execute_result"
    }
   ],
   "source": [
    "db.query(\"select body->>'$.type' from docs limit 10\")"
   ]
  },
  {
   "cell_type": "code",
   "execution_count": null,
   "metadata": {},
   "outputs": [],
   "source": []
  }
 ],
 "metadata": {
  "kernelspec": {
   "display_name": "ml_fasttext",
   "language": "python",
   "name": "python3"
  },
  "language_info": {
   "codemirror_mode": {
    "name": "ipython",
    "version": 3
   },
   "file_extension": ".py",
   "mimetype": "text/x-python",
   "name": "python",
   "nbconvert_exporter": "python",
   "pygments_lexer": "ipython3",
   "version": "3.9.12"
  },
  "orig_nbformat": 4,
  "vscode": {
   "interpreter": {
    "hash": "6c3fe96cabc72878c6f224e0a0456e3dff76243bb9f7fe337ace0cc6227985d0"
   }
  }
 },
 "nbformat": 4,
 "nbformat_minor": 2
}
