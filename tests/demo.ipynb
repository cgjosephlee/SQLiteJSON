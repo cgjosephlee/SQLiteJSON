{
 "cells": [
  {
   "cell_type": "markdown",
   "metadata": {},
   "source": [
    "# download example"
   ]
  },
  {
   "cell_type": "code",
   "execution_count": null,
   "metadata": {},
   "outputs": [],
   "source": [
    "!wget https://raw.githubusercontent.com/Biuni/PokemonGO-Pokedex/master/pokedex.json"
   ]
  },
  {
   "cell_type": "markdown",
   "metadata": {},
   "source": [
    "# write documents to sqlite db"
   ]
  },
  {
   "cell_type": "code",
   "execution_count": 1,
   "metadata": {
    "execution": {
     "iopub.execute_input": "2022-12-22T02:46:11.540800Z",
     "iopub.status.busy": "2022-12-22T02:46:11.540441Z",
     "iopub.status.idle": "2022-12-22T02:46:11.605805Z",
     "shell.execute_reply": "2022-12-22T02:46:11.605412Z",
     "shell.execute_reply.started": "2022-12-22T02:46:11.540717Z"
    },
    "tags": []
   },
   "outputs": [],
   "source": [
    "import json\n",
    "from SQLiteJSON import SQLiteJSON"
   ]
  },
  {
   "cell_type": "code",
   "execution_count": 2,
   "metadata": {
    "execution": {
     "iopub.execute_input": "2022-12-22T02:46:12.119937Z",
     "iopub.status.busy": "2022-12-22T02:46:12.119400Z",
     "iopub.status.idle": "2022-12-22T02:46:12.126505Z",
     "shell.execute_reply": "2022-12-22T02:46:12.125780Z",
     "shell.execute_reply.started": "2022-12-22T02:46:12.119906Z"
    }
   },
   "outputs": [],
   "source": [
    "with open(\"pokedex.json\") as f:\n",
    "    data = json.load(f)"
   ]
  },
  {
   "cell_type": "code",
   "execution_count": 3,
   "metadata": {
    "execution": {
     "iopub.execute_input": "2022-12-22T02:46:12.220468Z",
     "iopub.status.busy": "2022-12-22T02:46:12.220137Z",
     "iopub.status.idle": "2022-12-22T02:46:12.235099Z",
     "shell.execute_reply": "2022-12-22T02:46:12.234516Z",
     "shell.execute_reply.started": "2022-12-22T02:46:12.220440Z"
    }
   },
   "outputs": [
    {
     "data": {
      "text/plain": [
       "151"
      ]
     },
     "execution_count": 3,
     "metadata": {},
     "output_type": "execute_result"
    }
   ],
   "source": [
    "len(data[\"pokemon\"])"
   ]
  },
  {
   "cell_type": "code",
   "execution_count": 4,
   "metadata": {
    "execution": {
     "iopub.execute_input": "2022-12-22T02:46:12.319337Z",
     "iopub.status.busy": "2022-12-22T02:46:12.318916Z",
     "iopub.status.idle": "2022-12-22T02:46:12.325829Z",
     "shell.execute_reply": "2022-12-22T02:46:12.324101Z",
     "shell.execute_reply.started": "2022-12-22T02:46:12.319308Z"
    }
   },
   "outputs": [],
   "source": [
    "db = SQLiteJSON(\"pokedex.db\")"
   ]
  },
  {
   "cell_type": "code",
   "execution_count": 5,
   "metadata": {
    "execution": {
     "iopub.execute_input": "2022-12-22T02:46:12.420174Z",
     "iopub.status.busy": "2022-12-22T02:46:12.419868Z",
     "iopub.status.idle": "2022-12-22T02:46:12.466192Z",
     "shell.execute_reply": "2022-12-22T02:46:12.465690Z",
     "shell.execute_reply.started": "2022-12-22T02:46:12.420149Z"
    }
   },
   "outputs": [
    {
     "data": {
      "application/vnd.jupyter.widget-view+json": {
       "model_id": "ee2bb3d7bc274d4c87ece7d5f93b7cb7",
       "version_major": 2,
       "version_minor": 0
      },
      "text/plain": [
       "  0%|          | 0/151 [00:00<?, ?it/s]"
      ]
     },
     "metadata": {},
     "output_type": "display_data"
    }
   ],
   "source": [
    "db.write_json(data[\"pokemon\"])"
   ]
  },
  {
   "cell_type": "code",
   "execution_count": 6,
   "metadata": {
    "execution": {
     "iopub.execute_input": "2022-12-22T02:46:12.739295Z",
     "iopub.status.busy": "2022-12-22T02:46:12.739003Z",
     "iopub.status.idle": "2022-12-22T02:46:12.744274Z",
     "shell.execute_reply": "2022-12-22T02:46:12.742997Z",
     "shell.execute_reply.started": "2022-12-22T02:46:12.739271Z"
    }
   },
   "outputs": [],
   "source": [
    "db.close()"
   ]
  },
  {
   "cell_type": "markdown",
   "metadata": {
    "execution": {
     "iopub.execute_input": "2022-12-22T02:15:40.969375Z",
     "iopub.status.busy": "2022-12-22T02:15:40.968975Z",
     "iopub.status.idle": "2022-12-22T02:15:40.990943Z",
     "shell.execute_reply": "2022-12-22T02:15:40.989446Z",
     "shell.execute_reply.started": "2022-12-22T02:15:40.969279Z"
    }
   },
   "source": [
    "# read db"
   ]
  },
  {
   "cell_type": "code",
   "execution_count": 7,
   "metadata": {
    "execution": {
     "iopub.execute_input": "2022-12-22T02:46:17.947462Z",
     "iopub.status.busy": "2022-12-22T02:46:17.947187Z",
     "iopub.status.idle": "2022-12-22T02:46:17.951387Z",
     "shell.execute_reply": "2022-12-22T02:46:17.950475Z",
     "shell.execute_reply.started": "2022-12-22T02:46:17.947439Z"
    },
    "tags": []
   },
   "outputs": [],
   "source": [
    "db = SQLiteJSON(\"pokedex.db\")"
   ]
  },
  {
   "cell_type": "code",
   "execution_count": 8,
   "metadata": {
    "execution": {
     "iopub.execute_input": "2022-12-22T02:46:18.047129Z",
     "iopub.status.busy": "2022-12-22T02:46:18.046594Z",
     "iopub.status.idle": "2022-12-22T02:46:18.055594Z",
     "shell.execute_reply": "2022-12-22T02:46:18.054860Z",
     "shell.execute_reply.started": "2022-12-22T02:46:18.047076Z"
    },
    "tags": []
   },
   "outputs": [
    {
     "data": {
      "text/plain": [
       "'docs'"
      ]
     },
     "execution_count": 8,
     "metadata": {},
     "output_type": "execute_result"
    }
   ],
   "source": [
    "db.TABLE"
   ]
  },
  {
   "cell_type": "code",
   "execution_count": 9,
   "metadata": {
    "execution": {
     "iopub.execute_input": "2022-12-22T02:46:18.145902Z",
     "iopub.status.busy": "2022-12-22T02:46:18.145378Z",
     "iopub.status.idle": "2022-12-22T02:46:18.154267Z",
     "shell.execute_reply": "2022-12-22T02:46:18.153003Z",
     "shell.execute_reply.started": "2022-12-22T02:46:18.145855Z"
    },
    "tags": []
   },
   "outputs": [
    {
     "data": {
      "text/plain": [
       "'body'"
      ]
     },
     "execution_count": 9,
     "metadata": {},
     "output_type": "execute_result"
    }
   ],
   "source": [
    "db.BODY"
   ]
  },
  {
   "cell_type": "code",
   "execution_count": 10,
   "metadata": {
    "execution": {
     "iopub.execute_input": "2022-12-22T02:46:18.247838Z",
     "iopub.status.busy": "2022-12-22T02:46:18.247301Z",
     "iopub.status.idle": "2022-12-22T02:46:18.256059Z",
     "shell.execute_reply": "2022-12-22T02:46:18.255380Z",
     "shell.execute_reply.started": "2022-12-22T02:46:18.247782Z"
    },
    "tags": []
   },
   "outputs": [
    {
     "data": {
      "text/plain": [
       "151"
      ]
     },
     "execution_count": 10,
     "metadata": {},
     "output_type": "execute_result"
    }
   ],
   "source": [
    "db.size()"
   ]
  },
  {
   "cell_type": "code",
   "execution_count": 11,
   "metadata": {
    "execution": {
     "iopub.execute_input": "2022-12-22T02:46:18.350851Z",
     "iopub.status.busy": "2022-12-22T02:46:18.350277Z",
     "iopub.status.idle": "2022-12-22T02:46:18.358596Z",
     "shell.execute_reply": "2022-12-22T02:46:18.357829Z",
     "shell.execute_reply.started": "2022-12-22T02:46:18.350796Z"
    },
    "tags": []
   },
   "outputs": [
    {
     "data": {
      "text/plain": [
       "[('schema', 'name', 'type', 'ncol', 'wr', 'strict'),\n",
       " ('main', 'sqlite_sequence', 'table', 2, 0, 0),\n",
       " ('main', 'docs', 'table', 2, 0, 0),\n",
       " ('main', 'sqlite_schema', 'table', 5, 0, 0),\n",
       " ('temp', 'sqlite_temp_schema', 'table', 5, 0, 0)]"
      ]
     },
     "execution_count": 11,
     "metadata": {},
     "output_type": "execute_result"
    }
   ],
   "source": [
    "db.query(\"\"\"PRAGMA table_list\"\"\")"
   ]
  },
  {
   "cell_type": "code",
   "execution_count": 12,
   "metadata": {
    "execution": {
     "iopub.execute_input": "2022-12-22T02:46:18.449866Z",
     "iopub.status.busy": "2022-12-22T02:46:18.449328Z",
     "iopub.status.idle": "2022-12-22T02:46:18.457839Z",
     "shell.execute_reply": "2022-12-22T02:46:18.456833Z",
     "shell.execute_reply.started": "2022-12-22T02:46:18.449816Z"
    },
    "tags": []
   },
   "outputs": [
    {
     "data": {
      "text/plain": [
       "[('cid', 'name', 'type', 'notnull', 'dflt_value', 'pk'),\n",
       " (0, 'id', 'INTEGER', 0, None, 1),\n",
       " (1, 'body', 'JSON', 0, None, 0)]"
      ]
     },
     "execution_count": 12,
     "metadata": {},
     "output_type": "execute_result"
    }
   ],
   "source": [
    "db.query(\"\"\"PRAGMA table_info('docs')\"\"\")"
   ]
  },
  {
   "cell_type": "code",
   "execution_count": 13,
   "metadata": {
    "execution": {
     "iopub.execute_input": "2022-12-22T02:46:18.550692Z",
     "iopub.status.busy": "2022-12-22T02:46:18.550188Z",
     "iopub.status.idle": "2022-12-22T02:46:18.557710Z",
     "shell.execute_reply": "2022-12-22T02:46:18.557179Z",
     "shell.execute_reply.started": "2022-12-22T02:46:18.550646Z"
    },
    "tags": []
   },
   "outputs": [
    {
     "data": {
      "text/plain": [
       "[('count(body)',), (151,)]"
      ]
     },
     "execution_count": 13,
     "metadata": {},
     "output_type": "execute_result"
    }
   ],
   "source": [
    "db.query(\"\"\"select count(body) from docs\"\"\")"
   ]
  },
  {
   "cell_type": "markdown",
   "metadata": {},
   "source": [
    "# do some simple queries"
   ]
  },
  {
   "cell_type": "markdown",
   "metadata": {},
   "source": [
    "query a document"
   ]
  },
  {
   "cell_type": "code",
   "execution_count": 14,
   "metadata": {
    "execution": {
     "iopub.execute_input": "2022-12-22T02:46:18.753875Z",
     "iopub.status.busy": "2022-12-22T02:46:18.753197Z",
     "iopub.status.idle": "2022-12-22T02:46:18.761416Z",
     "shell.execute_reply": "2022-12-22T02:46:18.760793Z",
     "shell.execute_reply.started": "2022-12-22T02:46:18.753843Z"
    },
    "tags": []
   },
   "outputs": [
    {
     "data": {
      "text/plain": [
       "[('body',),\n",
       " ('{\"id\": 1, \"num\": \"001\", \"name\": \"Bulbasaur\", \"img\": \"http://www.serebii.net/pokemongo/pokemon/001.png\", \"type\": [\"Grass\", \"Poison\"], \"height\": \"0.71 m\", \"weight\": \"6.9 kg\", \"candy\": \"Bulbasaur Candy\", \"candy_count\": 25, \"egg\": \"2 km\", \"spawn_chance\": 0.69, \"avg_spawns\": 69, \"spawn_time\": \"20:00\", \"multipliers\": [1.58], \"weaknesses\": [\"Fire\", \"Ice\", \"Flying\", \"Psychic\"], \"next_evolution\": [{\"num\": \"002\", \"name\": \"Ivysaur\"}, {\"num\": \"003\", \"name\": \"Venusaur\"}]}',)]"
      ]
     },
     "execution_count": 14,
     "metadata": {},
     "output_type": "execute_result"
    }
   ],
   "source": [
    "db.query(\"select body from docs limit 1\")"
   ]
  },
  {
   "cell_type": "markdown",
   "metadata": {},
   "source": [
    "query by key"
   ]
  },
  {
   "cell_type": "code",
   "execution_count": 15,
   "metadata": {
    "execution": {
     "iopub.execute_input": "2022-12-22T02:46:18.855044Z",
     "iopub.status.busy": "2022-12-22T02:46:18.854121Z",
     "iopub.status.idle": "2022-12-22T02:46:18.860421Z",
     "shell.execute_reply": "2022-12-22T02:46:18.859903Z",
     "shell.execute_reply.started": "2022-12-22T02:46:18.854979Z"
    },
    "tags": []
   },
   "outputs": [
    {
     "data": {
      "text/plain": [
       "[(\"body->>'$.name'\",),\n",
       " ('Bulbasaur',),\n",
       " ('Ivysaur',),\n",
       " ('Venusaur',),\n",
       " ('Charmander',),\n",
       " ('Charmeleon',),\n",
       " ('Charizard',),\n",
       " ('Squirtle',),\n",
       " ('Wartortle',),\n",
       " ('Blastoise',),\n",
       " ('Caterpie',)]"
      ]
     },
     "execution_count": 15,
     "metadata": {},
     "output_type": "execute_result"
    }
   ],
   "source": [
    "db.query(\"\"\"select body->>'$.name' from docs limit 10\"\"\")"
   ]
  },
  {
   "cell_type": "markdown",
   "metadata": {},
   "source": [
    "filter values"
   ]
  },
  {
   "cell_type": "code",
   "execution_count": 16,
   "metadata": {
    "execution": {
     "iopub.execute_input": "2022-12-22T02:46:18.952350Z",
     "iopub.status.busy": "2022-12-22T02:46:18.951961Z",
     "iopub.status.idle": "2022-12-22T02:46:18.960644Z",
     "shell.execute_reply": "2022-12-22T02:46:18.959464Z",
     "shell.execute_reply.started": "2022-12-22T02:46:18.952316Z"
    },
    "tags": []
   },
   "outputs": [
    {
     "data": {
      "text/plain": [
       "[(\"body->>'$.name'\", \"body->>'$.spawn_chance'\"),\n",
       " ('Charizard', 0.0031),\n",
       " ('Blastoise', 0.0067),\n",
       " ('Raichu', 0.0076),\n",
       " ('Ninetales', 0.0077),\n",
       " ('Vileplume', 0.0097),\n",
       " ('Alakazam', 0.0073),\n",
       " ('Machamp', 0.0068),\n",
       " ('Victreebel', 0.0059),\n",
       " ('Golem', 0.0047),\n",
       " ('Muk', 0.0031),\n",
       " ('Gengar', 0.0067),\n",
       " ('Kangaskhan', 0.0086),\n",
       " ('Mr. Mime', 0.0031),\n",
       " ('Gyarados', 0.0032),\n",
       " ('Lapras', 0.006),\n",
       " ('Ditto', 0),\n",
       " ('Omastar', 0.0061),\n",
       " ('Kabutops', 0.0032),\n",
       " ('Articuno', 0),\n",
       " ('Zapdos', 0),\n",
       " ('Moltres', 0),\n",
       " ('Dragonite', 0.0011),\n",
       " ('Mewtwo', 0),\n",
       " ('Mew', 0)]"
      ]
     },
     "execution_count": 16,
     "metadata": {},
     "output_type": "execute_result"
    }
   ],
   "source": [
    "db.query(\"\"\"select body->>'$.name', body->>'$.spawn_chance' from docs where body->>'$.spawn_chance' < 0.01\"\"\")"
   ]
  },
  {
   "cell_type": "markdown",
   "metadata": {},
   "source": [
    "count values in an array `type`"
   ]
  },
  {
   "cell_type": "code",
   "execution_count": 17,
   "metadata": {
    "execution": {
     "iopub.execute_input": "2022-12-22T02:46:19.054042Z",
     "iopub.status.busy": "2022-12-22T02:46:19.053681Z",
     "iopub.status.idle": "2022-12-22T02:46:19.062347Z",
     "shell.execute_reply": "2022-12-22T02:46:19.061454Z",
     "shell.execute_reply.started": "2022-12-22T02:46:19.054013Z"
    },
    "tags": []
   },
   "outputs": [
    {
     "data": {
      "text/plain": [
       "[('value', 'count(k.value)'),\n",
       " ('Dragon', 3),\n",
       " ('Ghost', 3),\n",
       " ('Ice', 5),\n",
       " ('Fighting', 8),\n",
       " ('Electric', 9),\n",
       " ('Rock', 11),\n",
       " ('Bug', 12),\n",
       " ('Fire', 12),\n",
       " ('Grass', 14),\n",
       " ('Ground', 14),\n",
       " ('Psychic', 14),\n",
       " ('Flying', 19),\n",
       " ('Normal', 24),\n",
       " ('Water', 32),\n",
       " ('Poison', 33)]"
      ]
     },
     "execution_count": 17,
     "metadata": {},
     "output_type": "execute_result"
    }
   ],
   "source": [
    "db.query(\"\"\"select k.value, count(k.value) from docs, json_each(body->>'$.type') k group by k.value order by count(k.value)\"\"\")"
   ]
  },
  {
   "cell_type": "markdown",
   "metadata": {},
   "source": [
    "filter if array contains a specific value"
   ]
  },
  {
   "cell_type": "code",
   "execution_count": 18,
   "metadata": {
    "execution": {
     "iopub.execute_input": "2022-12-22T02:46:19.154627Z",
     "iopub.status.busy": "2022-12-22T02:46:19.153965Z",
     "iopub.status.idle": "2022-12-22T02:46:19.161946Z",
     "shell.execute_reply": "2022-12-22T02:46:19.161417Z",
     "shell.execute_reply.started": "2022-12-22T02:46:19.154597Z"
    },
    "tags": []
   },
   "outputs": [
    {
     "data": {
      "text/plain": [
       "[('body',),\n",
       " ('{\"id\": 87, \"num\": \"087\", \"name\": \"Dewgong\", \"img\": \"http://www.serebii.net/pokemongo/pokemon/087.png\", \"type\": [\"Water\", \"Ice\"], \"height\": \"1.70 m\", \"weight\": \"120.0 kg\", \"candy\": \"Seel Candy\", \"egg\": \"Not in Eggs\", \"spawn_chance\": 0.013, \"avg_spawns\": 1.3, \"spawn_time\": \"06:04\", \"multipliers\": null, \"weaknesses\": [\"Electric\", \"Grass\", \"Fighting\", \"Rock\"], \"prev_evolution\": [{\"num\": \"086\", \"name\": \"Seel\"}]}',),\n",
       " ('{\"id\": 91, \"num\": \"091\", \"name\": \"Cloyster\", \"img\": \"http://www.serebii.net/pokemongo/pokemon/091.png\", \"type\": [\"Water\", \"Ice\"], \"height\": \"1.50 m\", \"weight\": \"132.5 kg\", \"candy\": \"Shellder Candy\", \"egg\": \"Not in Eggs\", \"spawn_chance\": 0.015, \"avg_spawns\": 1.5, \"spawn_time\": \"02:33\", \"multipliers\": null, \"weaknesses\": [\"Electric\", \"Grass\", \"Fighting\", \"Rock\"], \"prev_evolution\": [{\"num\": \"090\", \"name\": \"Shellder\"}]}',),\n",
       " ('{\"id\": 124, \"num\": \"124\", \"name\": \"Jynx\", \"img\": \"http://www.serebii.net/pokemongo/pokemon/124.png\", \"type\": [\"Ice\", \"Psychic\"], \"height\": \"1.40 m\", \"weight\": \"40.6 kg\", \"candy\": \"None\", \"egg\": \"10 km\", \"spawn_chance\": 0.35, \"avg_spawns\": 35, \"spawn_time\": \"05:41\", \"multipliers\": null, \"weaknesses\": [\"Fire\", \"Bug\", \"Rock\", \"Ghost\", \"Dark\", \"Steel\"]}',),\n",
       " ('{\"id\": 131, \"num\": \"131\", \"name\": \"Lapras\", \"img\": \"http://www.serebii.net/pokemongo/pokemon/131.png\", \"type\": [\"Water\", \"Ice\"], \"height\": \"2.49 m\", \"weight\": \"220.0 kg\", \"candy\": \"None\", \"egg\": \"10 km\", \"spawn_chance\": 0.006, \"avg_spawns\": 0.6, \"spawn_time\": \"08:59\", \"multipliers\": null, \"weaknesses\": [\"Electric\", \"Grass\", \"Fighting\", \"Rock\"]}',),\n",
       " ('{\"id\": 144, \"num\": \"144\", \"name\": \"Articuno\", \"img\": \"http://www.serebii.net/pokemongo/pokemon/144.png\", \"type\": [\"Ice\", \"Flying\"], \"height\": \"1.70 m\", \"weight\": \"55.4 kg\", \"candy\": \"None\", \"egg\": \"Not in Eggs\", \"spawn_chance\": 0, \"avg_spawns\": 0, \"spawn_time\": \"N/A\", \"multipliers\": null, \"weaknesses\": [\"Fire\", \"Electric\", \"Rock\", \"Steel\"]}',)]"
      ]
     },
     "execution_count": 18,
     "metadata": {},
     "output_type": "execute_result"
    }
   ],
   "source": [
    "db.query(\"\"\"select body from docs, json_each(body->>'$.type') k where k.value = 'Ice'\"\"\")"
   ]
  },
  {
   "attachments": {},
   "cell_type": "markdown",
   "metadata": {},
   "source": [
    "same as above but with syntax sugar"
   ]
  },
  {
   "cell_type": "code",
   "execution_count": 19,
   "metadata": {
    "execution": {
     "iopub.execute_input": "2022-12-22T02:46:19.154627Z",
     "iopub.status.busy": "2022-12-22T02:46:19.153965Z",
     "iopub.status.idle": "2022-12-22T02:46:19.161946Z",
     "shell.execute_reply": "2022-12-22T02:46:19.161417Z",
     "shell.execute_reply.started": "2022-12-22T02:46:19.154597Z"
    },
    "tags": []
   },
   "outputs": [
    {
     "data": {
      "text/plain": [
       "[('body',),\n",
       " ('{\"id\": 87, \"num\": \"087\", \"name\": \"Dewgong\", \"img\": \"http://www.serebii.net/pokemongo/pokemon/087.png\", \"type\": [\"Water\", \"Ice\"], \"height\": \"1.70 m\", \"weight\": \"120.0 kg\", \"candy\": \"Seel Candy\", \"egg\": \"Not in Eggs\", \"spawn_chance\": 0.013, \"avg_spawns\": 1.3, \"spawn_time\": \"06:04\", \"multipliers\": null, \"weaknesses\": [\"Electric\", \"Grass\", \"Fighting\", \"Rock\"], \"prev_evolution\": [{\"num\": \"086\", \"name\": \"Seel\"}]}',),\n",
       " ('{\"id\": 91, \"num\": \"091\", \"name\": \"Cloyster\", \"img\": \"http://www.serebii.net/pokemongo/pokemon/091.png\", \"type\": [\"Water\", \"Ice\"], \"height\": \"1.50 m\", \"weight\": \"132.5 kg\", \"candy\": \"Shellder Candy\", \"egg\": \"Not in Eggs\", \"spawn_chance\": 0.015, \"avg_spawns\": 1.5, \"spawn_time\": \"02:33\", \"multipliers\": null, \"weaknesses\": [\"Electric\", \"Grass\", \"Fighting\", \"Rock\"], \"prev_evolution\": [{\"num\": \"090\", \"name\": \"Shellder\"}]}',),\n",
       " ('{\"id\": 124, \"num\": \"124\", \"name\": \"Jynx\", \"img\": \"http://www.serebii.net/pokemongo/pokemon/124.png\", \"type\": [\"Ice\", \"Psychic\"], \"height\": \"1.40 m\", \"weight\": \"40.6 kg\", \"candy\": \"None\", \"egg\": \"10 km\", \"spawn_chance\": 0.35, \"avg_spawns\": 35, \"spawn_time\": \"05:41\", \"multipliers\": null, \"weaknesses\": [\"Fire\", \"Bug\", \"Rock\", \"Ghost\", \"Dark\", \"Steel\"]}',),\n",
       " ('{\"id\": 131, \"num\": \"131\", \"name\": \"Lapras\", \"img\": \"http://www.serebii.net/pokemongo/pokemon/131.png\", \"type\": [\"Water\", \"Ice\"], \"height\": \"2.49 m\", \"weight\": \"220.0 kg\", \"candy\": \"None\", \"egg\": \"10 km\", \"spawn_chance\": 0.006, \"avg_spawns\": 0.6, \"spawn_time\": \"08:59\", \"multipliers\": null, \"weaknesses\": [\"Electric\", \"Grass\", \"Fighting\", \"Rock\"]}',),\n",
       " ('{\"id\": 144, \"num\": \"144\", \"name\": \"Articuno\", \"img\": \"http://www.serebii.net/pokemongo/pokemon/144.png\", \"type\": [\"Ice\", \"Flying\"], \"height\": \"1.70 m\", \"weight\": \"55.4 kg\", \"candy\": \"None\", \"egg\": \"Not in Eggs\", \"spawn_chance\": 0, \"avg_spawns\": 0, \"spawn_time\": \"N/A\", \"multipliers\": null, \"weaknesses\": [\"Fire\", \"Electric\", \"Rock\", \"Steel\"]}',)]"
      ]
     },
     "execution_count": 19,
     "metadata": {},
     "output_type": "execute_result"
    }
   ],
   "source": [
    "db.query(\"\"\"select body from docs where json_array_contains(body->>'$.type', 'Ice')\"\"\")"
   ]
  },
  {
   "cell_type": "code",
   "execution_count": null,
   "metadata": {},
   "outputs": [],
   "source": []
  },
  {
   "cell_type": "code",
   "execution_count": 20,
   "metadata": {
    "execution": {
     "iopub.execute_input": "2022-12-22T02:46:19.355361Z",
     "iopub.status.busy": "2022-12-22T02:46:19.355064Z",
     "iopub.status.idle": "2022-12-22T02:46:19.359053Z",
     "shell.execute_reply": "2022-12-22T02:46:19.358393Z",
     "shell.execute_reply.started": "2022-12-22T02:46:19.355335Z"
    }
   },
   "outputs": [],
   "source": [
    "db.close()"
   ]
  },
  {
   "cell_type": "code",
   "execution_count": null,
   "metadata": {},
   "outputs": [],
   "source": []
  }
 ],
 "metadata": {
  "kernelspec": {
   "display_name": "ml_fasttext",
   "language": "python",
   "name": "python3"
  },
  "language_info": {
   "codemirror_mode": {
    "name": "ipython",
    "version": 3
   },
   "file_extension": ".py",
   "mimetype": "text/x-python",
   "name": "python",
   "nbconvert_exporter": "python",
   "pygments_lexer": "ipython3",
   "version": "3.9.12"
  },
  "vscode": {
   "interpreter": {
    "hash": "6c3fe96cabc72878c6f224e0a0456e3dff76243bb9f7fe337ace0cc6227985d0"
   }
  },
  "widgets": {
   "application/vnd.jupyter.widget-state+json": {
    "state": {
     "2239f848c4204747820af73cb80e62af": {
      "model_module": "@jupyter-widgets/controls",
      "model_module_version": "1.5.0",
      "model_name": "HBoxModel",
      "state": {
       "children": [
        "IPY_MODEL_d0d9ed9e7b2c4c48a1abaff19a5fc4b2",
        "IPY_MODEL_c44ba1975fab4ffbbae5d6c865c041e8",
        "IPY_MODEL_232043679b104646b147c0d5c4f3de72"
       ],
       "layout": "IPY_MODEL_235d1f58ac5a4191886910c661af6716"
      }
     },
     "232043679b104646b147c0d5c4f3de72": {
      "model_module": "@jupyter-widgets/controls",
      "model_module_version": "1.5.0",
      "model_name": "HTMLModel",
      "state": {
       "layout": "IPY_MODEL_86ca6bf7169143cdb36984daeac46c9a",
       "style": "IPY_MODEL_fbdb8949ae664258987bc340262fad49",
       "value": " 151/151 [00:00&lt;00:00, 7223.48it/s]"
      }
     },
     "235d1f58ac5a4191886910c661af6716": {
      "model_module": "@jupyter-widgets/base",
      "model_module_version": "1.2.0",
      "model_name": "LayoutModel",
      "state": {}
     },
     "86ca6bf7169143cdb36984daeac46c9a": {
      "model_module": "@jupyter-widgets/base",
      "model_module_version": "1.2.0",
      "model_name": "LayoutModel",
      "state": {}
     },
     "ad2ea6f3005d43d08faed2803bdeebf4": {
      "model_module": "@jupyter-widgets/controls",
      "model_module_version": "1.5.0",
      "model_name": "DescriptionStyleModel",
      "state": {
       "description_width": ""
      }
     },
     "bd691f7b4c36489b888ff4107d67f6a7": {
      "model_module": "@jupyter-widgets/base",
      "model_module_version": "1.2.0",
      "model_name": "LayoutModel",
      "state": {}
     },
     "c033a194a5ad4f67ae55b2c742093924": {
      "model_module": "@jupyter-widgets/base",
      "model_module_version": "1.2.0",
      "model_name": "LayoutModel",
      "state": {}
     },
     "c44ba1975fab4ffbbae5d6c865c041e8": {
      "model_module": "@jupyter-widgets/controls",
      "model_module_version": "1.5.0",
      "model_name": "FloatProgressModel",
      "state": {
       "bar_style": "success",
       "layout": "IPY_MODEL_bd691f7b4c36489b888ff4107d67f6a7",
       "max": 151,
       "style": "IPY_MODEL_e751d4a1aba54bff9d576be678840463",
       "value": 151
      }
     },
     "d0d9ed9e7b2c4c48a1abaff19a5fc4b2": {
      "model_module": "@jupyter-widgets/controls",
      "model_module_version": "1.5.0",
      "model_name": "HTMLModel",
      "state": {
       "layout": "IPY_MODEL_c033a194a5ad4f67ae55b2c742093924",
       "style": "IPY_MODEL_ad2ea6f3005d43d08faed2803bdeebf4",
       "value": "100%"
      }
     },
     "e751d4a1aba54bff9d576be678840463": {
      "model_module": "@jupyter-widgets/controls",
      "model_module_version": "1.5.0",
      "model_name": "ProgressStyleModel",
      "state": {
       "description_width": ""
      }
     },
     "fbdb8949ae664258987bc340262fad49": {
      "model_module": "@jupyter-widgets/controls",
      "model_module_version": "1.5.0",
      "model_name": "DescriptionStyleModel",
      "state": {
       "description_width": ""
      }
     }
    },
    "version_major": 2,
    "version_minor": 0
   }
  }
 },
 "nbformat": 4,
 "nbformat_minor": 4
}
